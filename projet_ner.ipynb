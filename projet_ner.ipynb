{
  "nbformat": 4,
  "nbformat_minor": 0,
  "metadata": {
    "colab": {
      "name": "projet_ner.ipynb",
      "provenance": [],
      "collapsed_sections": [],
      "toc_visible": true,
      "include_colab_link": true
    },
    "kernelspec": {
      "name": "python3",
      "display_name": "Python 3"
    },
    "accelerator": "GPU",
    "widgets": {
      "application/vnd.jupyter.widget-state+json": {
        "8aeabfe345884885b334d9bb0bce658a": {
          "model_module": "@jupyter-widgets/controls",
          "model_name": "HBoxModel",
          "state": {
            "_view_name": "HBoxView",
            "_dom_classes": [],
            "_model_name": "HBoxModel",
            "_view_module": "@jupyter-widgets/controls",
            "_model_module_version": "1.5.0",
            "_view_count": null,
            "_view_module_version": "1.5.0",
            "box_style": "",
            "layout": "IPY_MODEL_972d6fd2a1244a54be049483ba2d5828",
            "_model_module": "@jupyter-widgets/controls",
            "children": [
              "IPY_MODEL_e9aa58ef78b84f608165b1e830257a0a",
              "IPY_MODEL_78bd3092de37411b8950848edf96043b"
            ]
          }
        },
        "972d6fd2a1244a54be049483ba2d5828": {
          "model_module": "@jupyter-widgets/base",
          "model_name": "LayoutModel",
          "state": {
            "_view_name": "LayoutView",
            "grid_template_rows": null,
            "right": null,
            "justify_content": null,
            "_view_module": "@jupyter-widgets/base",
            "overflow": null,
            "_model_module_version": "1.2.0",
            "_view_count": null,
            "flex_flow": null,
            "width": null,
            "min_width": null,
            "border": null,
            "align_items": null,
            "bottom": null,
            "_model_module": "@jupyter-widgets/base",
            "top": null,
            "grid_column": null,
            "overflow_y": null,
            "overflow_x": null,
            "grid_auto_flow": null,
            "grid_area": null,
            "grid_template_columns": null,
            "flex": null,
            "_model_name": "LayoutModel",
            "justify_items": null,
            "grid_row": null,
            "max_height": null,
            "align_content": null,
            "visibility": null,
            "align_self": null,
            "height": null,
            "min_height": null,
            "padding": null,
            "grid_auto_rows": null,
            "grid_gap": null,
            "max_width": null,
            "order": null,
            "_view_module_version": "1.2.0",
            "grid_template_areas": null,
            "object_position": null,
            "object_fit": null,
            "grid_auto_columns": null,
            "margin": null,
            "display": null,
            "left": null
          }
        },
        "e9aa58ef78b84f608165b1e830257a0a": {
          "model_module": "@jupyter-widgets/controls",
          "model_name": "FloatProgressModel",
          "state": {
            "_view_name": "ProgressView",
            "style": "IPY_MODEL_daf017b738b34e1694f0ac67c7938766",
            "_dom_classes": [],
            "description": "100%",
            "_model_name": "FloatProgressModel",
            "bar_style": "success",
            "max": 1,
            "_view_module": "@jupyter-widgets/controls",
            "_model_module_version": "1.5.0",
            "value": 1,
            "_view_count": null,
            "_view_module_version": "1.5.0",
            "orientation": "horizontal",
            "min": 0,
            "description_tooltip": null,
            "_model_module": "@jupyter-widgets/controls",
            "layout": "IPY_MODEL_2a0bd63ca8fc44f6867da1110d24ad85"
          }
        },
        "78bd3092de37411b8950848edf96043b": {
          "model_module": "@jupyter-widgets/controls",
          "model_name": "HTMLModel",
          "state": {
            "_view_name": "HTMLView",
            "style": "IPY_MODEL_58bac09a04824023872961b05746716f",
            "_dom_classes": [],
            "description": "",
            "_model_name": "HTMLModel",
            "placeholder": "​",
            "_view_module": "@jupyter-widgets/controls",
            "_model_module_version": "1.5.0",
            "value": " 1/1 [00:00&lt;00:00, 32.75it/s]",
            "_view_count": null,
            "_view_module_version": "1.5.0",
            "description_tooltip": null,
            "_model_module": "@jupyter-widgets/controls",
            "layout": "IPY_MODEL_4069a613e68844b9b227d4ab0a084494"
          }
        },
        "daf017b738b34e1694f0ac67c7938766": {
          "model_module": "@jupyter-widgets/controls",
          "model_name": "ProgressStyleModel",
          "state": {
            "_view_name": "StyleView",
            "_model_name": "ProgressStyleModel",
            "description_width": "initial",
            "_view_module": "@jupyter-widgets/base",
            "_model_module_version": "1.5.0",
            "_view_count": null,
            "_view_module_version": "1.2.0",
            "bar_color": null,
            "_model_module": "@jupyter-widgets/controls"
          }
        },
        "2a0bd63ca8fc44f6867da1110d24ad85": {
          "model_module": "@jupyter-widgets/base",
          "model_name": "LayoutModel",
          "state": {
            "_view_name": "LayoutView",
            "grid_template_rows": null,
            "right": null,
            "justify_content": null,
            "_view_module": "@jupyter-widgets/base",
            "overflow": null,
            "_model_module_version": "1.2.0",
            "_view_count": null,
            "flex_flow": null,
            "width": null,
            "min_width": null,
            "border": null,
            "align_items": null,
            "bottom": null,
            "_model_module": "@jupyter-widgets/base",
            "top": null,
            "grid_column": null,
            "overflow_y": null,
            "overflow_x": null,
            "grid_auto_flow": null,
            "grid_area": null,
            "grid_template_columns": null,
            "flex": null,
            "_model_name": "LayoutModel",
            "justify_items": null,
            "grid_row": null,
            "max_height": null,
            "align_content": null,
            "visibility": null,
            "align_self": null,
            "height": null,
            "min_height": null,
            "padding": null,
            "grid_auto_rows": null,
            "grid_gap": null,
            "max_width": null,
            "order": null,
            "_view_module_version": "1.2.0",
            "grid_template_areas": null,
            "object_position": null,
            "object_fit": null,
            "grid_auto_columns": null,
            "margin": null,
            "display": null,
            "left": null
          }
        },
        "58bac09a04824023872961b05746716f": {
          "model_module": "@jupyter-widgets/controls",
          "model_name": "DescriptionStyleModel",
          "state": {
            "_view_name": "StyleView",
            "_model_name": "DescriptionStyleModel",
            "description_width": "",
            "_view_module": "@jupyter-widgets/base",
            "_model_module_version": "1.5.0",
            "_view_count": null,
            "_view_module_version": "1.2.0",
            "_model_module": "@jupyter-widgets/controls"
          }
        },
        "4069a613e68844b9b227d4ab0a084494": {
          "model_module": "@jupyter-widgets/base",
          "model_name": "LayoutModel",
          "state": {
            "_view_name": "LayoutView",
            "grid_template_rows": null,
            "right": null,
            "justify_content": null,
            "_view_module": "@jupyter-widgets/base",
            "overflow": null,
            "_model_module_version": "1.2.0",
            "_view_count": null,
            "flex_flow": null,
            "width": null,
            "min_width": null,
            "border": null,
            "align_items": null,
            "bottom": null,
            "_model_module": "@jupyter-widgets/base",
            "top": null,
            "grid_column": null,
            "overflow_y": null,
            "overflow_x": null,
            "grid_auto_flow": null,
            "grid_area": null,
            "grid_template_columns": null,
            "flex": null,
            "_model_name": "LayoutModel",
            "justify_items": null,
            "grid_row": null,
            "max_height": null,
            "align_content": null,
            "visibility": null,
            "align_self": null,
            "height": null,
            "min_height": null,
            "padding": null,
            "grid_auto_rows": null,
            "grid_gap": null,
            "max_width": null,
            "order": null,
            "_view_module_version": "1.2.0",
            "grid_template_areas": null,
            "object_position": null,
            "object_fit": null,
            "grid_auto_columns": null,
            "margin": null,
            "display": null,
            "left": null
          }
        },
        "4695b0eedfda47de80627ba1a15f7247": {
          "model_module": "@jupyter-widgets/controls",
          "model_name": "HBoxModel",
          "state": {
            "_view_name": "HBoxView",
            "_dom_classes": [],
            "_model_name": "HBoxModel",
            "_view_module": "@jupyter-widgets/controls",
            "_model_module_version": "1.5.0",
            "_view_count": null,
            "_view_module_version": "1.5.0",
            "box_style": "",
            "layout": "IPY_MODEL_0554aa91e9dd48e7abb5b4b9f8c265cd",
            "_model_module": "@jupyter-widgets/controls",
            "children": [
              "IPY_MODEL_9f1ab2667c8549e0943c494202e0e422",
              "IPY_MODEL_79f0c031806249edafb1d9e7e772de2c"
            ]
          }
        },
        "0554aa91e9dd48e7abb5b4b9f8c265cd": {
          "model_module": "@jupyter-widgets/base",
          "model_name": "LayoutModel",
          "state": {
            "_view_name": "LayoutView",
            "grid_template_rows": null,
            "right": null,
            "justify_content": null,
            "_view_module": "@jupyter-widgets/base",
            "overflow": null,
            "_model_module_version": "1.2.0",
            "_view_count": null,
            "flex_flow": null,
            "width": null,
            "min_width": null,
            "border": null,
            "align_items": null,
            "bottom": null,
            "_model_module": "@jupyter-widgets/base",
            "top": null,
            "grid_column": null,
            "overflow_y": null,
            "overflow_x": null,
            "grid_auto_flow": null,
            "grid_area": null,
            "grid_template_columns": null,
            "flex": null,
            "_model_name": "LayoutModel",
            "justify_items": null,
            "grid_row": null,
            "max_height": null,
            "align_content": null,
            "visibility": null,
            "align_self": null,
            "height": null,
            "min_height": null,
            "padding": null,
            "grid_auto_rows": null,
            "grid_gap": null,
            "max_width": null,
            "order": null,
            "_view_module_version": "1.2.0",
            "grid_template_areas": null,
            "object_position": null,
            "object_fit": null,
            "grid_auto_columns": null,
            "margin": null,
            "display": null,
            "left": null
          }
        },
        "9f1ab2667c8549e0943c494202e0e422": {
          "model_module": "@jupyter-widgets/controls",
          "model_name": "FloatProgressModel",
          "state": {
            "_view_name": "ProgressView",
            "style": "IPY_MODEL_79f81eea173c4ea3b464e0ffbe8b496a",
            "_dom_classes": [],
            "description": "100%",
            "_model_name": "FloatProgressModel",
            "bar_style": "success",
            "max": 1,
            "_view_module": "@jupyter-widgets/controls",
            "_model_module_version": "1.5.0",
            "value": 1,
            "_view_count": null,
            "_view_module_version": "1.5.0",
            "orientation": "horizontal",
            "min": 0,
            "description_tooltip": null,
            "_model_module": "@jupyter-widgets/controls",
            "layout": "IPY_MODEL_230f00d1a9df4615b14e2db4b5539736"
          }
        },
        "79f0c031806249edafb1d9e7e772de2c": {
          "model_module": "@jupyter-widgets/controls",
          "model_name": "HTMLModel",
          "state": {
            "_view_name": "HTMLView",
            "style": "IPY_MODEL_e51e709932dc45dbb444511ef4ba6e34",
            "_dom_classes": [],
            "description": "",
            "_model_name": "HTMLModel",
            "placeholder": "​",
            "_view_module": "@jupyter-widgets/controls",
            "_model_module_version": "1.5.0",
            "value": " 1/1 [00:00&lt;00:00, 15.04it/s]",
            "_view_count": null,
            "_view_module_version": "1.5.0",
            "description_tooltip": null,
            "_model_module": "@jupyter-widgets/controls",
            "layout": "IPY_MODEL_c00339ffc2564fb6957dd0608afa3fc0"
          }
        },
        "79f81eea173c4ea3b464e0ffbe8b496a": {
          "model_module": "@jupyter-widgets/controls",
          "model_name": "ProgressStyleModel",
          "state": {
            "_view_name": "StyleView",
            "_model_name": "ProgressStyleModel",
            "description_width": "initial",
            "_view_module": "@jupyter-widgets/base",
            "_model_module_version": "1.5.0",
            "_view_count": null,
            "_view_module_version": "1.2.0",
            "bar_color": null,
            "_model_module": "@jupyter-widgets/controls"
          }
        },
        "230f00d1a9df4615b14e2db4b5539736": {
          "model_module": "@jupyter-widgets/base",
          "model_name": "LayoutModel",
          "state": {
            "_view_name": "LayoutView",
            "grid_template_rows": null,
            "right": null,
            "justify_content": null,
            "_view_module": "@jupyter-widgets/base",
            "overflow": null,
            "_model_module_version": "1.2.0",
            "_view_count": null,
            "flex_flow": null,
            "width": null,
            "min_width": null,
            "border": null,
            "align_items": null,
            "bottom": null,
            "_model_module": "@jupyter-widgets/base",
            "top": null,
            "grid_column": null,
            "overflow_y": null,
            "overflow_x": null,
            "grid_auto_flow": null,
            "grid_area": null,
            "grid_template_columns": null,
            "flex": null,
            "_model_name": "LayoutModel",
            "justify_items": null,
            "grid_row": null,
            "max_height": null,
            "align_content": null,
            "visibility": null,
            "align_self": null,
            "height": null,
            "min_height": null,
            "padding": null,
            "grid_auto_rows": null,
            "grid_gap": null,
            "max_width": null,
            "order": null,
            "_view_module_version": "1.2.0",
            "grid_template_areas": null,
            "object_position": null,
            "object_fit": null,
            "grid_auto_columns": null,
            "margin": null,
            "display": null,
            "left": null
          }
        },
        "e51e709932dc45dbb444511ef4ba6e34": {
          "model_module": "@jupyter-widgets/controls",
          "model_name": "DescriptionStyleModel",
          "state": {
            "_view_name": "StyleView",
            "_model_name": "DescriptionStyleModel",
            "description_width": "",
            "_view_module": "@jupyter-widgets/base",
            "_model_module_version": "1.5.0",
            "_view_count": null,
            "_view_module_version": "1.2.0",
            "_model_module": "@jupyter-widgets/controls"
          }
        },
        "c00339ffc2564fb6957dd0608afa3fc0": {
          "model_module": "@jupyter-widgets/base",
          "model_name": "LayoutModel",
          "state": {
            "_view_name": "LayoutView",
            "grid_template_rows": null,
            "right": null,
            "justify_content": null,
            "_view_module": "@jupyter-widgets/base",
            "overflow": null,
            "_model_module_version": "1.2.0",
            "_view_count": null,
            "flex_flow": null,
            "width": null,
            "min_width": null,
            "border": null,
            "align_items": null,
            "bottom": null,
            "_model_module": "@jupyter-widgets/base",
            "top": null,
            "grid_column": null,
            "overflow_y": null,
            "overflow_x": null,
            "grid_auto_flow": null,
            "grid_area": null,
            "grid_template_columns": null,
            "flex": null,
            "_model_name": "LayoutModel",
            "justify_items": null,
            "grid_row": null,
            "max_height": null,
            "align_content": null,
            "visibility": null,
            "align_self": null,
            "height": null,
            "min_height": null,
            "padding": null,
            "grid_auto_rows": null,
            "grid_gap": null,
            "max_width": null,
            "order": null,
            "_view_module_version": "1.2.0",
            "grid_template_areas": null,
            "object_position": null,
            "object_fit": null,
            "grid_auto_columns": null,
            "margin": null,
            "display": null,
            "left": null
          }
        },
        "68d1f451512245b58ffb824e899b9b8e": {
          "model_module": "@jupyter-widgets/controls",
          "model_name": "HBoxModel",
          "state": {
            "_view_name": "HBoxView",
            "_dom_classes": [],
            "_model_name": "HBoxModel",
            "_view_module": "@jupyter-widgets/controls",
            "_model_module_version": "1.5.0",
            "_view_count": null,
            "_view_module_version": "1.5.0",
            "box_style": "",
            "layout": "IPY_MODEL_099017899374470997ed40f2459232ed",
            "_model_module": "@jupyter-widgets/controls",
            "children": [
              "IPY_MODEL_166996270a14468d8323affc9c4af62e",
              "IPY_MODEL_23c1d68bc78b479dbd779bd72b923c65"
            ]
          }
        },
        "099017899374470997ed40f2459232ed": {
          "model_module": "@jupyter-widgets/base",
          "model_name": "LayoutModel",
          "state": {
            "_view_name": "LayoutView",
            "grid_template_rows": null,
            "right": null,
            "justify_content": null,
            "_view_module": "@jupyter-widgets/base",
            "overflow": null,
            "_model_module_version": "1.2.0",
            "_view_count": null,
            "flex_flow": null,
            "width": null,
            "min_width": null,
            "border": null,
            "align_items": null,
            "bottom": null,
            "_model_module": "@jupyter-widgets/base",
            "top": null,
            "grid_column": null,
            "overflow_y": null,
            "overflow_x": null,
            "grid_auto_flow": null,
            "grid_area": null,
            "grid_template_columns": null,
            "flex": null,
            "_model_name": "LayoutModel",
            "justify_items": null,
            "grid_row": null,
            "max_height": null,
            "align_content": null,
            "visibility": null,
            "align_self": null,
            "height": null,
            "min_height": null,
            "padding": null,
            "grid_auto_rows": null,
            "grid_gap": null,
            "max_width": null,
            "order": null,
            "_view_module_version": "1.2.0",
            "grid_template_areas": null,
            "object_position": null,
            "object_fit": null,
            "grid_auto_columns": null,
            "margin": null,
            "display": null,
            "left": null
          }
        },
        "166996270a14468d8323affc9c4af62e": {
          "model_module": "@jupyter-widgets/controls",
          "model_name": "FloatProgressModel",
          "state": {
            "_view_name": "ProgressView",
            "style": "IPY_MODEL_4afd12a57a704bf5b3020b5fdda53608",
            "_dom_classes": [],
            "description": "100%",
            "_model_name": "FloatProgressModel",
            "bar_style": "success",
            "max": 5843,
            "_view_module": "@jupyter-widgets/controls",
            "_model_module_version": "1.5.0",
            "value": 5843,
            "_view_count": null,
            "_view_module_version": "1.5.0",
            "orientation": "horizontal",
            "min": 0,
            "description_tooltip": null,
            "_model_module": "@jupyter-widgets/controls",
            "layout": "IPY_MODEL_972f2ef84b9347289015f5bc6240a48e"
          }
        },
        "23c1d68bc78b479dbd779bd72b923c65": {
          "model_module": "@jupyter-widgets/controls",
          "model_name": "HTMLModel",
          "state": {
            "_view_name": "HTMLView",
            "style": "IPY_MODEL_8bf01f4de34b4af5a9df3ff8dfc69912",
            "_dom_classes": [],
            "description": "",
            "_model_name": "HTMLModel",
            "placeholder": "​",
            "_view_module": "@jupyter-widgets/controls",
            "_model_module_version": "1.5.0",
            "value": " 5843/5843 [00:01&lt;00:00, 3007.29it/s]",
            "_view_count": null,
            "_view_module_version": "1.5.0",
            "description_tooltip": null,
            "_model_module": "@jupyter-widgets/controls",
            "layout": "IPY_MODEL_a0a0542817b44e3391ee7fd3dd04109e"
          }
        },
        "4afd12a57a704bf5b3020b5fdda53608": {
          "model_module": "@jupyter-widgets/controls",
          "model_name": "ProgressStyleModel",
          "state": {
            "_view_name": "StyleView",
            "_model_name": "ProgressStyleModel",
            "description_width": "initial",
            "_view_module": "@jupyter-widgets/base",
            "_model_module_version": "1.5.0",
            "_view_count": null,
            "_view_module_version": "1.2.0",
            "bar_color": null,
            "_model_module": "@jupyter-widgets/controls"
          }
        },
        "972f2ef84b9347289015f5bc6240a48e": {
          "model_module": "@jupyter-widgets/base",
          "model_name": "LayoutModel",
          "state": {
            "_view_name": "LayoutView",
            "grid_template_rows": null,
            "right": null,
            "justify_content": null,
            "_view_module": "@jupyter-widgets/base",
            "overflow": null,
            "_model_module_version": "1.2.0",
            "_view_count": null,
            "flex_flow": null,
            "width": null,
            "min_width": null,
            "border": null,
            "align_items": null,
            "bottom": null,
            "_model_module": "@jupyter-widgets/base",
            "top": null,
            "grid_column": null,
            "overflow_y": null,
            "overflow_x": null,
            "grid_auto_flow": null,
            "grid_area": null,
            "grid_template_columns": null,
            "flex": null,
            "_model_name": "LayoutModel",
            "justify_items": null,
            "grid_row": null,
            "max_height": null,
            "align_content": null,
            "visibility": null,
            "align_self": null,
            "height": null,
            "min_height": null,
            "padding": null,
            "grid_auto_rows": null,
            "grid_gap": null,
            "max_width": null,
            "order": null,
            "_view_module_version": "1.2.0",
            "grid_template_areas": null,
            "object_position": null,
            "object_fit": null,
            "grid_auto_columns": null,
            "margin": null,
            "display": null,
            "left": null
          }
        },
        "8bf01f4de34b4af5a9df3ff8dfc69912": {
          "model_module": "@jupyter-widgets/controls",
          "model_name": "DescriptionStyleModel",
          "state": {
            "_view_name": "StyleView",
            "_model_name": "DescriptionStyleModel",
            "description_width": "",
            "_view_module": "@jupyter-widgets/base",
            "_model_module_version": "1.5.0",
            "_view_count": null,
            "_view_module_version": "1.2.0",
            "_model_module": "@jupyter-widgets/controls"
          }
        },
        "a0a0542817b44e3391ee7fd3dd04109e": {
          "model_module": "@jupyter-widgets/base",
          "model_name": "LayoutModel",
          "state": {
            "_view_name": "LayoutView",
            "grid_template_rows": null,
            "right": null,
            "justify_content": null,
            "_view_module": "@jupyter-widgets/base",
            "overflow": null,
            "_model_module_version": "1.2.0",
            "_view_count": null,
            "flex_flow": null,
            "width": null,
            "min_width": null,
            "border": null,
            "align_items": null,
            "bottom": null,
            "_model_module": "@jupyter-widgets/base",
            "top": null,
            "grid_column": null,
            "overflow_y": null,
            "overflow_x": null,
            "grid_auto_flow": null,
            "grid_area": null,
            "grid_template_columns": null,
            "flex": null,
            "_model_name": "LayoutModel",
            "justify_items": null,
            "grid_row": null,
            "max_height": null,
            "align_content": null,
            "visibility": null,
            "align_self": null,
            "height": null,
            "min_height": null,
            "padding": null,
            "grid_auto_rows": null,
            "grid_gap": null,
            "max_width": null,
            "order": null,
            "_view_module_version": "1.2.0",
            "grid_template_areas": null,
            "object_position": null,
            "object_fit": null,
            "grid_auto_columns": null,
            "margin": null,
            "display": null,
            "left": null
          }
        },
        "c7a190fddf1744eeaf9c50cef7b360e6": {
          "model_module": "@jupyter-widgets/controls",
          "model_name": "HBoxModel",
          "state": {
            "_view_name": "HBoxView",
            "_dom_classes": [],
            "_model_name": "HBoxModel",
            "_view_module": "@jupyter-widgets/controls",
            "_model_module_version": "1.5.0",
            "_view_count": null,
            "_view_module_version": "1.5.0",
            "box_style": "",
            "layout": "IPY_MODEL_9d7be42bdc0c4d96895117ed0496258d",
            "_model_module": "@jupyter-widgets/controls",
            "children": [
              "IPY_MODEL_0978ebc0abd94ca9aba0c8f0c09e1da4",
              "IPY_MODEL_2a49ef2b91cd4d2799af481d3a388a07"
            ]
          }
        },
        "9d7be42bdc0c4d96895117ed0496258d": {
          "model_module": "@jupyter-widgets/base",
          "model_name": "LayoutModel",
          "state": {
            "_view_name": "LayoutView",
            "grid_template_rows": null,
            "right": null,
            "justify_content": null,
            "_view_module": "@jupyter-widgets/base",
            "overflow": null,
            "_model_module_version": "1.2.0",
            "_view_count": null,
            "flex_flow": null,
            "width": null,
            "min_width": null,
            "border": null,
            "align_items": null,
            "bottom": null,
            "_model_module": "@jupyter-widgets/base",
            "top": null,
            "grid_column": null,
            "overflow_y": null,
            "overflow_x": null,
            "grid_auto_flow": null,
            "grid_area": null,
            "grid_template_columns": null,
            "flex": null,
            "_model_name": "LayoutModel",
            "justify_items": null,
            "grid_row": null,
            "max_height": null,
            "align_content": null,
            "visibility": null,
            "align_self": null,
            "height": null,
            "min_height": null,
            "padding": null,
            "grid_auto_rows": null,
            "grid_gap": null,
            "max_width": null,
            "order": null,
            "_view_module_version": "1.2.0",
            "grid_template_areas": null,
            "object_position": null,
            "object_fit": null,
            "grid_auto_columns": null,
            "margin": null,
            "display": null,
            "left": null
          }
        },
        "0978ebc0abd94ca9aba0c8f0c09e1da4": {
          "model_module": "@jupyter-widgets/controls",
          "model_name": "FloatProgressModel",
          "state": {
            "_view_name": "ProgressView",
            "style": "IPY_MODEL_34a8960ed5c7427abb4c121ffa4dc9db",
            "_dom_classes": [],
            "description": "100%",
            "_model_name": "FloatProgressModel",
            "bar_style": "success",
            "max": 731,
            "_view_module": "@jupyter-widgets/controls",
            "_model_module_version": "1.5.0",
            "value": 731,
            "_view_count": null,
            "_view_module_version": "1.5.0",
            "orientation": "horizontal",
            "min": 0,
            "description_tooltip": null,
            "_model_module": "@jupyter-widgets/controls",
            "layout": "IPY_MODEL_b4ad039cbf064de08f186abec89c9297"
          }
        },
        "2a49ef2b91cd4d2799af481d3a388a07": {
          "model_module": "@jupyter-widgets/controls",
          "model_name": "HTMLModel",
          "state": {
            "_view_name": "HTMLView",
            "style": "IPY_MODEL_aca0787344604b1cae53729556eba992",
            "_dom_classes": [],
            "description": "",
            "_model_name": "HTMLModel",
            "placeholder": "​",
            "_view_module": "@jupyter-widgets/controls",
            "_model_module_version": "1.5.0",
            "value": " 731/731 [01:21&lt;00:00,  8.95it/s]",
            "_view_count": null,
            "_view_module_version": "1.5.0",
            "description_tooltip": null,
            "_model_module": "@jupyter-widgets/controls",
            "layout": "IPY_MODEL_2841d44a7b134b7695ce09f98a6e30c9"
          }
        },
        "34a8960ed5c7427abb4c121ffa4dc9db": {
          "model_module": "@jupyter-widgets/controls",
          "model_name": "ProgressStyleModel",
          "state": {
            "_view_name": "StyleView",
            "_model_name": "ProgressStyleModel",
            "description_width": "initial",
            "_view_module": "@jupyter-widgets/base",
            "_model_module_version": "1.5.0",
            "_view_count": null,
            "_view_module_version": "1.2.0",
            "bar_color": null,
            "_model_module": "@jupyter-widgets/controls"
          }
        },
        "b4ad039cbf064de08f186abec89c9297": {
          "model_module": "@jupyter-widgets/base",
          "model_name": "LayoutModel",
          "state": {
            "_view_name": "LayoutView",
            "grid_template_rows": null,
            "right": null,
            "justify_content": null,
            "_view_module": "@jupyter-widgets/base",
            "overflow": null,
            "_model_module_version": "1.2.0",
            "_view_count": null,
            "flex_flow": null,
            "width": null,
            "min_width": null,
            "border": null,
            "align_items": null,
            "bottom": null,
            "_model_module": "@jupyter-widgets/base",
            "top": null,
            "grid_column": null,
            "overflow_y": null,
            "overflow_x": null,
            "grid_auto_flow": null,
            "grid_area": null,
            "grid_template_columns": null,
            "flex": null,
            "_model_name": "LayoutModel",
            "justify_items": null,
            "grid_row": null,
            "max_height": null,
            "align_content": null,
            "visibility": null,
            "align_self": null,
            "height": null,
            "min_height": null,
            "padding": null,
            "grid_auto_rows": null,
            "grid_gap": null,
            "max_width": null,
            "order": null,
            "_view_module_version": "1.2.0",
            "grid_template_areas": null,
            "object_position": null,
            "object_fit": null,
            "grid_auto_columns": null,
            "margin": null,
            "display": null,
            "left": null
          }
        },
        "aca0787344604b1cae53729556eba992": {
          "model_module": "@jupyter-widgets/controls",
          "model_name": "DescriptionStyleModel",
          "state": {
            "_view_name": "StyleView",
            "_model_name": "DescriptionStyleModel",
            "description_width": "",
            "_view_module": "@jupyter-widgets/base",
            "_model_module_version": "1.5.0",
            "_view_count": null,
            "_view_module_version": "1.2.0",
            "_model_module": "@jupyter-widgets/controls"
          }
        },
        "2841d44a7b134b7695ce09f98a6e30c9": {
          "model_module": "@jupyter-widgets/base",
          "model_name": "LayoutModel",
          "state": {
            "_view_name": "LayoutView",
            "grid_template_rows": null,
            "right": null,
            "justify_content": null,
            "_view_module": "@jupyter-widgets/base",
            "overflow": null,
            "_model_module_version": "1.2.0",
            "_view_count": null,
            "flex_flow": null,
            "width": null,
            "min_width": null,
            "border": null,
            "align_items": null,
            "bottom": null,
            "_model_module": "@jupyter-widgets/base",
            "top": null,
            "grid_column": null,
            "overflow_y": null,
            "overflow_x": null,
            "grid_auto_flow": null,
            "grid_area": null,
            "grid_template_columns": null,
            "flex": null,
            "_model_name": "LayoutModel",
            "justify_items": null,
            "grid_row": null,
            "max_height": null,
            "align_content": null,
            "visibility": null,
            "align_self": null,
            "height": null,
            "min_height": null,
            "padding": null,
            "grid_auto_rows": null,
            "grid_gap": null,
            "max_width": null,
            "order": null,
            "_view_module_version": "1.2.0",
            "grid_template_areas": null,
            "object_position": null,
            "object_fit": null,
            "grid_auto_columns": null,
            "margin": null,
            "display": null,
            "left": null
          }
        }
      }
    }
  },
  "cells": [
    {
      "cell_type": "markdown",
      "metadata": {
        "id": "view-in-github",
        "colab_type": "text"
      },
      "source": [
        "<a href=\"https://colab.research.google.com/github/liepstik/git_moves/blob/master/projet_ner.ipynb\" target=\"_parent\"><img src=\"https://colab.research.google.com/assets/colab-badge.svg\" alt=\"Open In Colab\"/></a>"
      ]
    },
    {
      "cell_type": "markdown",
      "metadata": {
        "id": "6qZXe6XveG_p",
        "colab_type": "text"
      },
      "source": [
        "# Table of contents"
      ]
    },
    {
      "cell_type": "markdown",
      "metadata": {
        "id": "ZUGw4_7geBco",
        "colab_type": "toc"
      },
      "source": [
        ">[Subject](#scrollTo=vAlLussbpwC4)\n",
        "\n",
        ">>[Context](#scrollTo=ZRR2FKEa2hqj)\n",
        "\n",
        ">>>[NER](#scrollTo=8HjW0OX8tqO9)\n",
        "\n",
        ">>[Work to be done](#scrollTo=v5b86Ce1fOgG)\n",
        "\n",
        ">>[Rendering](#scrollTo=89q49GkAguBh)\n",
        "\n",
        ">[Prerequisite](#scrollTo=xxYiALfPniZC)\n",
        "\n",
        ">>[Simple transformers, wandb Installation](#scrollTo=s9TjSfEKXUm9)\n",
        "\n",
        ">>[APEX Installation](#scrollTo=EvuQROz_jN4h)\n",
        "\n",
        ">>[Importing libraries](#scrollTo=Kzju3uBK2weP)\n",
        "\n",
        ">>[Mounting drive](#scrollTo=4c6mCMi8i2KP)\n",
        "\n",
        ">[Dataframe creation](#scrollTo=4O9DiLdHUsuZ)\n",
        "\n",
        ">>[Gain time](#scrollTo=QBzJbdW4qYET)\n",
        "\n",
        ">>[Data processing](#scrollTo=9Mmj4X3wrvDG)\n",
        "\n",
        ">>>[Processing related to simpletransformer](#scrollTo=9OQWnpScHV13)\n",
        "\n",
        ">>>[Checking that each word has only one label associated](#scrollTo=dfZ0st3cksMT)\n",
        "\n",
        ">>>[Export of the processed dataframe (df)](#scrollTo=uXkOqwlAwETG)\n",
        "\n",
        ">>>[Creation of training and testing datasets](#scrollTo=OkyipPUxLUnY)\n",
        "\n",
        ">[Descriptive analysis](#scrollTo=g4cmlGsxn5qV)\n",
        "\n",
        ">[Testing available NERmodels of simpletransformer.](#scrollTo=q4J6-WU_zIRw)\n",
        "\n",
        ">>[Functions](#scrollTo=yfzCbusmmLbR)\n",
        "\n",
        ">>[Training and evaluation of each Model](#scrollTo=WgyBBjwmbaSm)\n",
        "\n",
        ">>[Focus on Camembert](#scrollTo=M6RjMWksc3tI)\n",
        "\n",
        ">>>[Processing results](#scrollTo=KfhdtGWJ4VG4)\n",
        "\n",
        ">>[Predictions](#scrollTo=-bCMdgSrBfU3)\n",
        "\n",
        ">[Classification report](#scrollTo=ZrY5Q3K-Cq69)\n",
        "\n"
      ]
    },
    {
      "cell_type": "markdown",
      "metadata": {
        "id": "vAlLussbpwC4",
        "colab_type": "text"
      },
      "source": [
        "# Subject"
      ]
    },
    {
      "cell_type": "markdown",
      "metadata": {
        "id": "ZRR2FKEa2hqj",
        "colab_type": "text"
      },
      "source": [
        "## Context\n"
      ]
    },
    {
      "cell_type": "markdown",
      "metadata": {
        "id": "bzDHUpGfZOdd",
        "colab_type": "text"
      },
      "source": [
        "French language models have recently been published (CamemBERT, FlauBERT). This is positive because even advanced tools like Spacy are notoriously still ill-suited to deal with certain languages, including French. It remains to be assessed what these models can really bring, particularly with regard to the recognition of named entities.\n",
        "\n"
      ]
    },
    {
      "cell_type": "markdown",
      "metadata": {
        "id": "8HjW0OX8tqO9",
        "colab_type": "text"
      },
      "source": [
        "### NER \n",
        "https://simpletransformers.ai/docs/ner-specifics/\n",
        "\n",
        "\"The goal of Named Entity Recognition is to locate and classify named entities in a sequence. The named entities are pre-defined categories chosen according to the use case such as names of people, organizations, places, codes, time notations, monetary values, etc. Essentially, NER aims to assign a class to each token (usually a single word) in a sequence. Because of this, NER is also referred to as token classification.\"\n",
        "\n",
        "**How to use Simple Transformer**\n",
        "\n",
        "* Initialize a NERModel\n",
        "* Train the model with train_model()\n",
        "* Evaluate the model with eval_model()\n",
        "* Make predictions on (unlabelled) data with predict()\n",
        "\n",
        "**Models available to supply to model_type** : https://huggingface.co/models\n",
        "\n",
        "* BERT :\t*bert*\n",
        "* CamemBERT :\t*camembert*\n",
        "* RoBERTa :\t*roberta*\n",
        "* DistilBERT :\t*distilbert*\n",
        "* ELECTRA\t: *electra*\n",
        "* XLM-RoBERTa\t: *xlmroberta*"
      ]
    },
    {
      "cell_type": "markdown",
      "metadata": {
        "id": "v5b86Ce1fOgG",
        "colab_type": "text"
      },
      "source": [
        "## Work to be done"
      ]
    },
    {
      "cell_type": "markdown",
      "metadata": {
        "id": "9VfEZAGjfTTc",
        "colab_type": "text"
      },
      "source": [
        "Perform recognition experiments on named entities on the Europeana Newspapers French data set using all the models available for this in the Simple Transformers library. The addresses to consult are:\n",
        "\n",
        "* https://github.com/ThilinaRajapakse/simpletransformers\n",
        "* http://api.bnf.fr/europeana-newspapers-french-ner-ground-truth"
      ]
    },
    {
      "cell_type": "markdown",
      "metadata": {
        "id": "89q49GkAguBh",
        "colab_type": "text"
      },
      "source": [
        "## Rendering\n",
        "\n",
        "Clear and commented code in a notebook.\n",
        "A report describing the evaluation methods / metrics (based on seqeval, a detailed description of which will be given) and presenting / comparing / discussing the results obtained.\n"
      ]
    },
    {
      "cell_type": "markdown",
      "metadata": {
        "id": "xxYiALfPniZC",
        "colab_type": "text"
      },
      "source": [
        "# Prerequisite"
      ]
    },
    {
      "cell_type": "markdown",
      "metadata": {
        "id": "ipW0hxG8AhtE",
        "colab_type": "text"
      },
      "source": [
        "This section contains the installations and library imports needed to make the code work."
      ]
    },
    {
      "cell_type": "markdown",
      "metadata": {
        "id": "s9TjSfEKXUm9",
        "colab_type": "text"
      },
      "source": [
        "## Simple transformers, wandb Installation "
      ]
    },
    {
      "cell_type": "code",
      "metadata": {
        "id": "YAu81V8eXeFK",
        "colab_type": "code",
        "colab": {}
      },
      "source": [
        "pip install simpletransformers"
      ],
      "execution_count": 0,
      "outputs": []
    },
    {
      "cell_type": "code",
      "metadata": {
        "id": "Q5-MYnHYg51r",
        "colab_type": "code",
        "colab": {}
      },
      "source": [
        "pip install wandb"
      ],
      "execution_count": 0,
      "outputs": []
    },
    {
      "cell_type": "markdown",
      "metadata": {
        "id": "EvuQROz_jN4h",
        "colab_type": "text"
      },
      "source": [
        "## APEX Installation"
      ]
    },
    {
      "cell_type": "markdown",
      "metadata": {
        "id": "wuK0c5zooWOx",
        "colab_type": "text"
      },
      "source": [
        "Apex is a PyTorch add-on package from NVIDIA with capabilities for automatic mixed precision (AMP) and distributed training."
      ]
    },
    {
      "cell_type": "code",
      "metadata": {
        "id": "f8iRvZWKjRdv",
        "colab_type": "code",
        "colab": {}
      },
      "source": [
        "# get the last version of apex because pip install apex generates an error\n",
        "\n",
        "! git clone https://github.com/NVIDIA/apex "
      ],
      "execution_count": 0,
      "outputs": []
    },
    {
      "cell_type": "code",
      "metadata": {
        "id": "G8begNZvjROY",
        "colab_type": "code",
        "colab": {}
      },
      "source": [
        "cd apex"
      ],
      "execution_count": 0,
      "outputs": []
    },
    {
      "cell_type": "code",
      "metadata": {
        "id": "QT3ujyyuepb-",
        "colab_type": "code",
        "colab": {}
      },
      "source": [
        "pip install -v --no-cache-dir --global-option=\"--cpp_ext\" --global-option=\"--cuda_ext\" ./"
      ],
      "execution_count": 0,
      "outputs": []
    },
    {
      "cell_type": "markdown",
      "metadata": {
        "id": "Kzju3uBK2weP",
        "colab_type": "text"
      },
      "source": [
        "## Importing libraries"
      ]
    },
    {
      "cell_type": "code",
      "metadata": {
        "id": "yQA66znDyu9r",
        "colab_type": "code",
        "colab": {}
      },
      "source": [
        "import pandas as pd \n",
        "import numpy as np\n",
        "import os\n",
        "from pandas.io.parsers import ParserError\n",
        "import random\n",
        "from simpletransformers.ner import NERModel\n",
        "import logging\n",
        "from sklearn.model_selection import train_test_split\n",
        "import pickle\n",
        "import plotly.express as px\n",
        "import matplotlib.pyplot as plt\n",
        "import torch\n",
        "import gc\n",
        "import shutil\n",
        "from seqeval.metrics import classification_report, accuracy_score, f1_score"
      ],
      "execution_count": 0,
      "outputs": []
    },
    {
      "cell_type": "markdown",
      "metadata": {
        "id": "4c6mCMi8i2KP",
        "colab_type": "text"
      },
      "source": [
        "## Mounting drive"
      ]
    },
    {
      "cell_type": "markdown",
      "metadata": {
        "id": "tHjM4MKWn4Uu",
        "colab_type": "text"
      },
      "source": [
        "Mounting drive permits to use it as a local environment"
      ]
    },
    {
      "cell_type": "code",
      "metadata": {
        "id": "2PIIzGp2wKf6",
        "colab_type": "code",
        "colab": {}
      },
      "source": [
        "os.chdir('./..') ## return to content\n",
        "os.getcwd()"
      ],
      "execution_count": 0,
      "outputs": []
    },
    {
      "cell_type": "code",
      "metadata": {
        "id": "NvqOJpLPiz3y",
        "colab_type": "code",
        "colab": {}
      },
      "source": [
        "from google.colab import drive\n",
        "drive.mount('/content/drive/',force_remount=True)"
      ],
      "execution_count": 0,
      "outputs": []
    },
    {
      "cell_type": "code",
      "metadata": {
        "id": "HbH--sOiwQ1t",
        "colab_type": "code",
        "colab": {}
      },
      "source": [
        "# os.chdir('./drive/My Drive/PPD-NER') # Drive A\n",
        "# os.getcwd()\n",
        "os.chdir('./drive/My Drive/MLDS/PPD-NER') # Drive L\n",
        "os.getcwd()"
      ],
      "execution_count": 0,
      "outputs": []
    },
    {
      "cell_type": "markdown",
      "metadata": {
        "id": "4O9DiLdHUsuZ",
        "colab_type": "text"
      },
      "source": [
        "# Dataframe creation\n",
        "\n",
        "In this section we create a dataframe from 212 files of Europeana Newspapers French and we apply necessary processing to it to be able to use it with the simple transformer library.\n",
        "\n",
        "You can run the **\"Gain time\" section** to avoid the data processing and directly  load the final dataframe."
      ]
    },
    {
      "cell_type": "markdown",
      "metadata": {
        "id": "QBzJbdW4qYET",
        "colab_type": "text"
      },
      "source": [
        "## Gain time"
      ]
    },
    {
      "cell_type": "code",
      "metadata": {
        "id": "xPDlLGuMdiEV",
        "colab_type": "code",
        "outputId": "64e2a123-6fed-433b-959d-e60e71f3eb45",
        "colab": {
          "base_uri": "https://localhost:8080/",
          "height": 86
        }
      },
      "source": [
        "# Reading dataframe\n",
        "# don't run the following cells of this subpart to gain time\n",
        "\n",
        "df = pd.read_csv(\"./out/df.csv\", sep = \"\\t\" )\n",
        "\n",
        "# Conversion into String to avoid errors during training\n",
        "df[\"words\"] = df[\"words\"].astype(str)\n",
        "df[\"labels\"] = df[\"labels\"].astype(str)\n",
        "\n",
        "# Our training dataset is made up of around 80 percent of the unique sentence_id (+ - 10293) and 20 percent for the test\n",
        "randomlist = []\n",
        "for i in range(0,10293):\n",
        "  n = random.randint(0, df[\"sentence_id\"].nunique())\n",
        "  randomlist.append(n)\n",
        "\n",
        "# Rreate training and testing dataframes\n",
        "train_df = df[df[\"sentence_id\"].isin(randomlist)] # 80% of the sentences_id\n",
        "eval_df = df[~df[\"sentence_id\"].isin(randomlist)] \n",
        "\n",
        "# list of labels to provide to the model\n",
        "tags = df[\"labels\"].unique().tolist()\n",
        "\n",
        "print(\"Shapes :\")\n",
        "print(\"df : \", df.shape)\n",
        "print(\"train_df : \", train_df.shape)\n",
        "print(\"eval_df : \", eval_df.shape)"
      ],
      "execution_count": 0,
      "outputs": [
        {
          "output_type": "stream",
          "text": [
            "Shapes :\n",
            "df :  (212000, 3)\n",
            "train_df :  (115338, 3)\n",
            "eval_df :  (96662, 3)\n"
          ],
          "name": "stdout"
        }
      ]
    },
    {
      "cell_type": "markdown",
      "metadata": {
        "id": "9Mmj4X3wrvDG",
        "colab_type": "text"
      },
      "source": [
        "## Data processing"
      ]
    },
    {
      "cell_type": "markdown",
      "metadata": {
        "id": "-n33bS8ltWpV",
        "colab_type": "text"
      },
      "source": [
        "We are going to concatenate the 212 files to create the database for the experiment. We first create a list out of the files name."
      ]
    },
    {
      "cell_type": "code",
      "metadata": {
        "id": "vn9oxOF2rAH7",
        "colab_type": "code",
        "colab": {}
      },
      "source": [
        "files = os.listdir(\"./data\") "
      ],
      "execution_count": 0,
      "outputs": []
    },
    {
      "cell_type": "markdown",
      "metadata": {
        "id": "gZtsCuMBtEQx",
        "colab_type": "text"
      },
      "source": [
        "We have to be careful about quoting characters. \n",
        "Some lines have for word: '\"' which poses problem because pandas recognizes them as quote and not as a character.\n",
        "This cell permits to read every file of the directory data and to append them in the same dataframe."
      ]
    },
    {
      "cell_type": "code",
      "metadata": {
        "id": "HLva41EnsW4s",
        "colab_type": "code",
        "colab": {}
      },
      "source": [
        "# If ParserError exception is raised, we put the name of the file in a list.\n",
        "\n",
        "l_bug = [] # This list will contain dataframes that have encountered the ParserError exception\n",
        "l_ok = [] # This list will contain the dataframes that have not encountered the ParserError exception\n",
        "\n",
        "df = pd.DataFrame() \n",
        "\n",
        "for i in files :\n",
        "  try:\n",
        "    # quoting = 3 to avoid ParserError\n",
        "    df = df.append(pd.read_csv(\"./data/\"+i, sep = \"\\t\", quoting = 3, header = None)) \n",
        "    l_ok.append(i)\n",
        "  except ParserError as err :\n",
        "    l_bug.append(i)"
      ],
      "execution_count": 0,
      "outputs": []
    },
    {
      "cell_type": "markdown",
      "metadata": {
        "id": "9OQWnpScHV13",
        "colab_type": "text"
      },
      "source": [
        "### Processing related to simpletransformer"
      ]
    },
    {
      "cell_type": "markdown",
      "metadata": {
        "id": "2LCa1S_nY9Fu",
        "colab_type": "text"
      },
      "source": [
        "The simpletransformer library we impose to have 3 columns named: \"sentence_id\", \"words\", \"labels\"\n",
        "\n",
        "**Sentence_id** is the number of the phrase to which a word belongs. As this information is not present in the data set, it is necessary to construct this variable ourselves."
      ]
    },
    {
      "cell_type": "code",
      "metadata": {
        "id": "xD_1CUlH4s_M",
        "colab_type": "code",
        "colab": {}
      },
      "source": [
        "df.columns = [\"words\", \"labels\"] # Rename columns \n",
        "\n",
        "df = df.reset_index(drop = True )"
      ],
      "execution_count": 0,
      "outputs": []
    },
    {
      "cell_type": "code",
      "metadata": {
        "id": "gCtD5ULWqHog",
        "colab_type": "code",
        "colab": {}
      },
      "source": [
        "\"\"\"\n",
        "To define the beginning of a new sentence we consider that the appearance of one of the following separators\n",
        "\".\" or \"?\" or \"!\" signals a change of sentence\n",
        "\"\"\"\n",
        "\n",
        "j = 0\n",
        "df[\"sentence_id\"] = \"\"\n",
        "for i in range(df.shape[0]):\n",
        "  if (df.loc[i, \"words\"] in ([\".\", \"!\", \"?\"])):\n",
        "    df.loc[i, \"sentence_id\"] = j\n",
        "    j = j+1\n",
        "  else :\n",
        "    df.loc[i, \"sentence_id\"] = j"
      ],
      "execution_count": 0,
      "outputs": []
    },
    {
      "cell_type": "markdown",
      "metadata": {
        "id": "l2P8bC7cGxuj",
        "colab_type": "text"
      },
      "source": [
        "The library needs the input dataframe to have 3 columns in this order : \"sentence_id\", \"words\", \"labels\""
      ]
    },
    {
      "cell_type": "code",
      "metadata": {
        "id": "bWMRboaM-EP3",
        "colab_type": "code",
        "colab": {}
      },
      "source": [
        "df = df[[\"sentence_id\", \"words\", \"labels\"]]"
      ],
      "execution_count": 0,
      "outputs": []
    },
    {
      "cell_type": "markdown",
      "metadata": {
        "id": "DVmI4bcQ4sAm",
        "colab_type": "text"
      },
      "source": [
        "We must provide a list of labels to the NERmodel object, specifically to the \"labels\" attribute."
      ]
    },
    {
      "cell_type": "code",
      "metadata": {
        "id": "cLIiTrOO4jyb",
        "colab_type": "code",
        "colab": {}
      },
      "source": [
        "tags = df[\"labels\"].unique().tolist()"
      ],
      "execution_count": 0,
      "outputs": []
    },
    {
      "cell_type": "markdown",
      "metadata": {
        "id": "dfZ0st3cksMT",
        "colab_type": "text"
      },
      "source": [
        "### Checking that each word has only one label associated"
      ]
    },
    {
      "cell_type": "markdown",
      "metadata": {
        "id": "XWOa-lAUIE-4",
        "colab_type": "text"
      },
      "source": [
        "We are exploring the possibility of a word being associated with several different labels."
      ]
    },
    {
      "cell_type": "code",
      "metadata": {
        "id": "n0T1eKvDR9Dm",
        "colab_type": "code",
        "colab": {}
      },
      "source": [
        "# grouping by word to obtain the list of associated labels to the word.\n",
        "df_grouped = pd.DataFrame(df[[\"words\", \"labels\"]].groupby(\"words\")[\"labels\"].apply(tuple))"
      ],
      "execution_count": 0,
      "outputs": []
    },
    {
      "cell_type": "markdown",
      "metadata": {
        "id": "5H-3_C99KhAU",
        "colab_type": "text"
      },
      "source": [
        "We are checking the words associated with more than one label. "
      ]
    },
    {
      "cell_type": "code",
      "metadata": {
        "id": "JIDYkgNFg-4L",
        "colab_type": "code",
        "outputId": "94a61329-c22d-4427-fbf5-a96ffa63a421",
        "colab": {
          "base_uri": "https://localhost:8080/",
          "height": 110
        }
      },
      "source": [
        "df_grouped.iloc[np.where(len(set(df_grouped[\"labels\"]))!=1)]"
      ],
      "execution_count": 0,
      "outputs": [
        {
          "output_type": "execute_result",
          "data": {
            "text/html": [
              "<div>\n",
              "<style scoped>\n",
              "    .dataframe tbody tr th:only-of-type {\n",
              "        vertical-align: middle;\n",
              "    }\n",
              "\n",
              "    .dataframe tbody tr th {\n",
              "        vertical-align: top;\n",
              "    }\n",
              "\n",
              "    .dataframe thead th {\n",
              "        text-align: right;\n",
              "    }\n",
              "</style>\n",
              "<table border=\"1\" class=\"dataframe\">\n",
              "  <thead>\n",
              "    <tr style=\"text-align: right;\">\n",
              "      <th></th>\n",
              "      <th>labels</th>\n",
              "    </tr>\n",
              "    <tr>\n",
              "      <th>words</th>\n",
              "      <th></th>\n",
              "    </tr>\n",
              "  </thead>\n",
              "  <tbody>\n",
              "    <tr>\n",
              "      <th>!</th>\n",
              "      <td>(O, O, O, O, O, O, O, O, O, O, O, O, O, O, O, ...</td>\n",
              "    </tr>\n",
              "  </tbody>\n",
              "</table>\n",
              "</div>"
            ],
            "text/plain": [
              "                                                  labels\n",
              "words                                                   \n",
              "!      (O, O, O, O, O, O, O, O, O, O, O, O, O, O, O, ..."
            ]
          },
          "metadata": {
            "tags": []
          },
          "execution_count": 9
        }
      ]
    },
    {
      "cell_type": "markdown",
      "metadata": {
        "id": "WePACvqGKwZ8",
        "colab_type": "text"
      },
      "source": [
        "The symbol \"!\" has several labels associated with it."
      ]
    },
    {
      "cell_type": "code",
      "metadata": {
        "id": "VkpfxQv-jfdi",
        "colab_type": "code",
        "outputId": "6178edf7-9dee-41ab-8cf5-0a6d1f1d6503",
        "colab": {
          "base_uri": "https://localhost:8080/",
          "height": 34
        }
      },
      "source": [
        "set(df_grouped.loc[\"!\"][\"labels\"])"
      ],
      "execution_count": 0,
      "outputs": [
        {
          "output_type": "execute_result",
          "data": {
            "text/plain": [
              "{'I-LIEU', 'I-PERS', 'O'}"
            ]
          },
          "metadata": {
            "tags": []
          },
          "execution_count": 10
        }
      ]
    },
    {
      "cell_type": "markdown",
      "metadata": {
        "id": "gLthqOHmo_xv",
        "colab_type": "text"
      },
      "source": [
        "We associate \"O\" to every \"!\"."
      ]
    },
    {
      "cell_type": "code",
      "metadata": {
        "id": "903kKK59pgeL",
        "colab_type": "code",
        "colab": {}
      },
      "source": [
        "df[\"labels\"] = np.where(df[\"words\"]==\"!\",\n",
        "                        \"O\",\n",
        "                        df[\"labels\"]) "
      ],
      "execution_count": 0,
      "outputs": []
    },
    {
      "cell_type": "code",
      "metadata": {
        "id": "ULmxLOQXp4Qb",
        "colab_type": "code",
        "outputId": "464131d5-19af-46b2-c4b2-b2082f3ac42c",
        "colab": {
          "base_uri": "https://localhost:8080/",
          "height": 34
        }
      },
      "source": [
        "df[df[\"words\"]==\"!\"][\"labels\"].unique()"
      ],
      "execution_count": 0,
      "outputs": [
        {
          "output_type": "execute_result",
          "data": {
            "text/plain": [
              "array(['O'], dtype=object)"
            ]
          },
          "metadata": {
            "tags": []
          },
          "execution_count": 15
        }
      ]
    },
    {
      "cell_type": "markdown",
      "metadata": {
        "id": "uXkOqwlAwETG",
        "colab_type": "text"
      },
      "source": [
        "### Export of the processed dataframe (df)"
      ]
    },
    {
      "cell_type": "code",
      "metadata": {
        "id": "er31Psip-nsc",
        "colab_type": "code",
        "colab": {}
      },
      "source": [
        "df.to_csv(\"./out/df.csv\", index = False, sep = \"\\t\" )"
      ],
      "execution_count": 0,
      "outputs": []
    },
    {
      "cell_type": "markdown",
      "metadata": {
        "id": "OkyipPUxLUnY",
        "colab_type": "text"
      },
      "source": [
        "### Creation of training and testing datasets"
      ]
    },
    {
      "cell_type": "markdown",
      "metadata": {
        "id": "QNRucKQEL1Vd",
        "colab_type": "text"
      },
      "source": [
        "We create the training and testing data sets.\n",
        "Our training dataset is made up of around 80 percent of the unique sentence_id (+ - 10293) and 20 percent for the test."
      ]
    },
    {
      "cell_type": "code",
      "metadata": {
        "id": "ZSsq_oWUAAQK",
        "colab_type": "code",
        "colab": {}
      },
      "source": [
        "# Conversion into String to avoid errors during compilation\n",
        "df[\"words\"] = df[\"words\"].astype(str)\n",
        "df[\"labels\"] = df[\"labels\"].astype(str)\n",
        "\n",
        "# randomList that contains 80 percent of the sentence ids.\n",
        "randomlist = []\n",
        "for i in range(0,10293):\n",
        "  n = random.randint(0, df[\"sentence_id\"].nunique())\n",
        "  randomlist.append(n)\n",
        "\n",
        "train_df = df[df[\"sentence_id\"].isin(randomlist)]\n",
        "eval_df = df[~df[\"sentence_id\"].isin(randomlist)] "
      ],
      "execution_count": 0,
      "outputs": []
    },
    {
      "cell_type": "markdown",
      "metadata": {
        "id": "g4cmlGsxn5qV",
        "colab_type": "text"
      },
      "source": [
        "# Descriptive analysis"
      ]
    },
    {
      "cell_type": "markdown",
      "metadata": {
        "id": "3laOym5EMM3z",
        "colab_type": "text"
      },
      "source": [
        "We will observe the distribution of the labels."
      ]
    },
    {
      "cell_type": "code",
      "metadata": {
        "id": "qqC-TjuW_eEv",
        "colab_type": "code",
        "outputId": "291723f4-47fc-43f7-e7c6-173e5b90b30b",
        "colab": {
          "base_uri": "https://localhost:8080/",
          "height": 463
        }
      },
      "source": [
        "# Repartition of words into categories\n",
        "\n",
        "labels=df[\"labels\"].value_counts().index\n",
        "fig1, ax1 = plt.subplots(figsize=(8, 6))\n",
        "fig1.subplots_adjust(0.3,0,1,1)\n",
        "ax1.pie(df[\"labels\"].value_counts().values, autopct='%1.1f%%')\n",
        "ax1.axis('equal')\n",
        "plt.legend(loc='best',\n",
        "           prop={'size': 11},\n",
        "           labels = labels\n",
        "           )\n",
        "fig1 = plt.gcf()\n",
        "plt.show()\n",
        "plt.show()"
      ],
      "execution_count": 0,
      "outputs": [
        {
          "output_type": "display_data",
          "data": {
            "image/png": "[encoded data removed]",
            "text/plain": [
              "<Figure size 576x432 with 1 Axes>"
            ]
          },
          "metadata": {
            "tags": []
          }
        }
      ]
    },
    {
      "cell_type": "markdown",
      "metadata": {
        "id": "KLaFsyupMe9g",
        "colab_type": "text"
      },
      "source": [
        "We notice that the dataset is unbalanced. It contains a majority of \"O\" (91.2%).\n",
        "\"I-LIEU\" is twice as present as the \"I-PERS\" and \"I-ORG\" classes. It would be interesting to consider a rebalancing of the classes."
      ]
    },
    {
      "cell_type": "code",
      "metadata": {
        "id": "yN1biWWuBiHE",
        "colab_type": "code",
        "colab": {}
      },
      "source": [
        "# Create directory images if necessary\n",
        "# Export fig as a png file\n",
        "\n",
        "if not os.path.exists(\"./images\"):\n",
        "    os.mkdir(\"./images\")\n",
        "fig1.savefig(\"./images/repartition.png\")"
      ],
      "execution_count": 0,
      "outputs": []
    },
    {
      "cell_type": "markdown",
      "metadata": {
        "id": "q4J6-WU_zIRw",
        "colab_type": "text"
      },
      "source": [
        "# Testing available NERmodels of simpletransformer."
      ]
    },
    {
      "cell_type": "markdown",
      "metadata": {
        "id": "pNyOIECUaVud",
        "colab_type": "text"
      },
      "source": [
        "First, we will test each family of models with the models proposed in the documentation. Here is the list : \n",
        "\n",
        "- BERT : bert / **bert-base-cased** \n",
        "- CamemBERT : camembert / **camembert-base** \n",
        "- RoBERTa : roberta / **roberta-base** \n",
        "- DistilBERT : distilbert / **distilbert-base-cased** \n",
        "- ELECTRA : electra / **google/electra-base-discriminator** \n",
        "- XLM-RoBERTa : xlmroberta / **xlm-roberta-base** \n"
      ]
    },
    {
      "cell_type": "markdown",
      "metadata": {
        "id": "yfzCbusmmLbR",
        "colab_type": "text"
      },
      "source": [
        "## Functions"
      ]
    },
    {
      "cell_type": "markdown",
      "metadata": {
        "id": "UpObStxaQiDM",
        "colab_type": "text"
      },
      "source": [
        "We encountered problems with the saturation of the graphics card. This function allows you to obtain the percentage of allocated memory and cache used. "
      ]
    },
    {
      "cell_type": "code",
      "metadata": {
        "id": "tHvwNjO5xifs",
        "colab_type": "code",
        "colab": {}
      },
      "source": [
        "def check_cuda_freespace() : \n",
        "  \"\"\" check cuda memory\"\"\"\n",
        "\n",
        "  t = torch.cuda.get_device_properties(0).total_memory\n",
        "  c = torch.cuda.memory_cached(0)\n",
        "  a = torch.cuda.memory_allocated(0)\n",
        "  f = ((c)/t)*100  # free space\n",
        "  print(\"Cuda memory cached : \" , c)\n",
        "  print(\"Cuda memory allocated : \" , c)\n",
        "  print(\"Cuda free memory : \" , f)"
      ],
      "execution_count": 0,
      "outputs": []
    },
    {
      "cell_type": "markdown",
      "metadata": {
        "id": "qCg-OY_5QlyC",
        "colab_type": "text"
      },
      "source": [
        "In order to avoid saturation, we have created a function that allows you to empty part of the graphics card cache."
      ]
    },
    {
      "cell_type": "code",
      "metadata": {
        "id": "MHCS3lTAXwSp",
        "colab_type": "code",
        "colab": {}
      },
      "source": [
        "def dump_tensors(gpu_only=True):\n",
        "  \"\"\"To avoid GPU'S saturation, this function flush GPU's memory. It deletes tensors wich take space.\n",
        "\n",
        "  \"\"\"\n",
        "  total_size = 0\n",
        "  for obj in gc.get_objects():\n",
        "      try:\n",
        "          if torch.is_tensor(obj):\n",
        "              if not gpu_only or obj.is_cuda:\n",
        "                  del obj\n",
        "                  gc.collect()\n",
        "                  torch.cuda.empty_cache()\n",
        "          elif hasattr(obj, \"data\") and torch.is_tensor(obj.data):\n",
        "              if not gpu_only or obj.is_cuda:\n",
        "                  del obj\n",
        "                  gc.collect()\n",
        "                  torch.cuda.empty_cache()\n",
        "      except Exception as e:\n",
        "          pass"
      ],
      "execution_count": 0,
      "outputs": []
    },
    {
      "cell_type": "code",
      "metadata": {
        "id": "1q8_v3aWmNXL",
        "colab_type": "code",
        "colab": {}
      },
      "source": [
        "def modeling_train_eval(train_df , eval_df , algotype , algo, results_df) :\n",
        "  \"\"\" This function will train and eval given an NERmodel\n",
        "  Parameters\n",
        "  ----------\n",
        "\n",
        "  train_df : dataframe\n",
        "    Training dataframe\n",
        "\n",
        "  eval_df : dataframe\n",
        "    Eval dataframe\n",
        "\n",
        "  algotype : str\n",
        "    It represents a family of model\n",
        "    Possible value : BERT, CamemBERT, RoBERTa, DistilBERT, ELECTRA, XLM-RoBERTa \n",
        "\n",
        "  algo : str\n",
        "    It is a model associated with a family. Its value depends on algotype\n",
        "\n",
        "  results_df : dataframe\n",
        "    Dataframe where results will be save\n",
        "  \"\"\"\n",
        "\n",
        "  print(\"###################\\t\", algotype , \" -- \", algo ,\"\\t###################\")\n",
        "\n",
        "  renamed_algo = algo.replace(\"/\",\"-\")\n",
        "  path_output = \"./out/models/\"+renamed_algo # path where results and model will be saved\n",
        "\n",
        "  # if directory doesn't exist, it will be create\n",
        "  if not os.path.exists(path_output):\n",
        "    os.mkdir(path_output)\n",
        "\n",
        "  try : \n",
        "    print(\"################### MODEL CREATION\\t\", algotype , \" -- \", algo ,\"\\t###################\")\n",
        "    model = NERModel(algotype, algo , args={'overwrite_output_dir': True, 'reprocess_input_data': True}, labels=tags)\n",
        "    print(\"################### MODEL TRAINING\\t\", algotype , \" -- \", algo ,\"\\t###################\")\n",
        "    model.train_model(train_df, output_dir = path_output)\n",
        "\n",
        "    print(\"################### MODEL EVAL\\t\", algotype , \" -- \", algo ,\"\\t###################\")\n",
        "    result, model_outputs, predictions = model.eval_model(eval_df, output_dir = path_output )\n",
        "\n",
        "    # adding type_algo's name and algo's name\n",
        "    result[\"type_algo\"] = algotype\n",
        "    result[\"algo\"] = algo\n",
        "\n",
        "    print(\"################### APPENDING RESULTS\\t\", algotype , \" -- \", algo ,\"\\t###################\")\n",
        "    # appending results to a dataframe\n",
        "    results_df = results_df.append(result, ignore_index = True)\n",
        "\n",
        "#  except RuntimeError as e :\n",
        "#    dump_tensors()\n",
        "  \n",
        "  except (AttributeError, OSError) as err : \n",
        "    try:\n",
        "      shutil.rmtree(path_output)\n",
        "      del model\n",
        "      \n",
        "    except NameError as error:\n",
        "      pass\n",
        "\n",
        "  return results_df"
      ],
      "execution_count": 0,
      "outputs": []
    },
    {
      "cell_type": "markdown",
      "metadata": {
        "id": "WgyBBjwmbaSm",
        "colab_type": "text"
      },
      "source": [
        "## Training and evaluation of each Model \n",
        "\n",
        "The performance of the models will be written in the dataframe results.\n",
        "It will be composed of loss, f1_score, precision and recall for each model\n",
        "\n"
      ]
    },
    {
      "cell_type": "code",
      "metadata": {
        "id": "PjRlMv9_EJSc",
        "colab_type": "code",
        "colab": {}
      },
      "source": [
        "global results\n",
        "results = pd.DataFrame(columns = ['eval_loss','f1_score','precision','recall', \"type_algo\", \"algo\"]) "
      ],
      "execution_count": 0,
      "outputs": []
    },
    {
      "cell_type": "markdown",
      "metadata": {
        "id": "7MgkQxYZSPl7",
        "colab_type": "text"
      },
      "source": [
        "The next cell allows you to run function x by looping through the model family and model lists."
      ]
    },
    {
      "cell_type": "code",
      "metadata": {
        "id": "yhmxuasV6ggV",
        "colab_type": "code",
        "colab": {}
      },
      "source": [
        "l_algotype = [ \"bert\" , \"camembert\" , \"roberta\" , \"distilbert\" , \"electra\" , \"xlmroberta\"] # family of models\n",
        "l_algo = [ \"bert-base-cased\", \"camembert-base\" , \"roberta-base\" ,\n",
        "          \"distilbert-base-cased\" , \"google/electra-base-discriminator\" , \"xlm-roberta-base\"] # model names\n",
        "\n",
        "results = [modeling_train_eval(train_df , eval_df, x, y, results) for x, y in zip(l_algotype, l_algo)][0]\n",
        "\n",
        "# round values to 2 significant digits\n",
        "results = round(results, 2)"
      ],
      "execution_count": 0,
      "outputs": []
    },
    {
      "cell_type": "markdown",
      "metadata": {
        "id": "xdpQQMRyTwmF",
        "colab_type": "text"
      },
      "source": [
        "As we have memory saturation problems, we decided to make backups of the dataframe results. They will allow us to write the rest of the results after the graphics card is saturated."
      ]
    },
    {
      "cell_type": "code",
      "metadata": {
        "id": "6ZCRl9Xw-XNZ",
        "colab_type": "code",
        "colab": {}
      },
      "source": [
        "# export results\n",
        "results.to_csv(\"./out/results.csv\", sep = \",\" , index = False )"
      ],
      "execution_count": 0,
      "outputs": []
    },
    {
      "cell_type": "code",
      "metadata": {
        "id": "5Th3l0eg1UXo",
        "colab_type": "code",
        "colab": {}
      },
      "source": [
        "results = pd.read_csv(\"./out/results.csv\" , sep = \",\" )"
      ],
      "execution_count": 0,
      "outputs": []
    },
    {
      "cell_type": "code",
      "metadata": {
        "id": "vHI1jOa21bcQ",
        "colab_type": "code",
        "outputId": "5f1979c5-a102-4861-f1e9-d9b435b50d65",
        "colab": {
          "base_uri": "https://localhost:8080/",
          "height": 233
        }
      },
      "source": [
        "results"
      ],
      "execution_count": 0,
      "outputs": [
        {
          "output_type": "execute_result",
          "data": {
            "text/html": [
              "<div>\n",
              "<style scoped>\n",
              "    .dataframe tbody tr th:only-of-type {\n",
              "        vertical-align: middle;\n",
              "    }\n",
              "\n",
              "    .dataframe tbody tr th {\n",
              "        vertical-align: top;\n",
              "    }\n",
              "\n",
              "    .dataframe thead th {\n",
              "        text-align: right;\n",
              "    }\n",
              "</style>\n",
              "<table border=\"1\" class=\"dataframe\">\n",
              "  <thead>\n",
              "    <tr style=\"text-align: right;\">\n",
              "      <th></th>\n",
              "      <th>eval_loss</th>\n",
              "      <th>f1_score</th>\n",
              "      <th>precision</th>\n",
              "      <th>recall</th>\n",
              "      <th>type_algo</th>\n",
              "      <th>algo</th>\n",
              "    </tr>\n",
              "  </thead>\n",
              "  <tbody>\n",
              "    <tr>\n",
              "      <th>0</th>\n",
              "      <td>0.20</td>\n",
              "      <td>0.67</td>\n",
              "      <td>0.67</td>\n",
              "      <td>0.67</td>\n",
              "      <td>bert</td>\n",
              "      <td>bert-base-cased</td>\n",
              "    </tr>\n",
              "    <tr>\n",
              "      <th>1</th>\n",
              "      <td>0.20</td>\n",
              "      <td>0.72</td>\n",
              "      <td>0.73</td>\n",
              "      <td>0.72</td>\n",
              "      <td>camembert</td>\n",
              "      <td>camembert-base</td>\n",
              "    </tr>\n",
              "    <tr>\n",
              "      <th>2</th>\n",
              "      <td>0.23</td>\n",
              "      <td>0.60</td>\n",
              "      <td>0.60</td>\n",
              "      <td>0.60</td>\n",
              "      <td>roberta</td>\n",
              "      <td>roberta-base</td>\n",
              "    </tr>\n",
              "    <tr>\n",
              "      <th>3</th>\n",
              "      <td>0.21</td>\n",
              "      <td>0.62</td>\n",
              "      <td>0.63</td>\n",
              "      <td>0.61</td>\n",
              "      <td>distilbert</td>\n",
              "      <td>distilbert-base-cased</td>\n",
              "    </tr>\n",
              "    <tr>\n",
              "      <th>4</th>\n",
              "      <td>0.27</td>\n",
              "      <td>0.39</td>\n",
              "      <td>0.44</td>\n",
              "      <td>0.35</td>\n",
              "      <td>electra</td>\n",
              "      <td>google/electra-base-discriminator</td>\n",
              "    </tr>\n",
              "    <tr>\n",
              "      <th>5</th>\n",
              "      <td>0.20</td>\n",
              "      <td>0.70</td>\n",
              "      <td>0.68</td>\n",
              "      <td>0.71</td>\n",
              "      <td>xlmroberta</td>\n",
              "      <td>xlm-roberta-base</td>\n",
              "    </tr>\n",
              "  </tbody>\n",
              "</table>\n",
              "</div>"
            ],
            "text/plain": [
              "   eval_loss  f1_score  ...   type_algo                               algo\n",
              "0       0.20      0.67  ...        bert                    bert-base-cased\n",
              "1       0.20      0.72  ...   camembert                     camembert-base\n",
              "2       0.23      0.60  ...     roberta                       roberta-base\n",
              "3       0.21      0.62  ...  distilbert              distilbert-base-cased\n",
              "4       0.27      0.39  ...     electra  google/electra-base-discriminator\n",
              "5       0.20      0.70  ...  xlmroberta                   xlm-roberta-base\n",
              "\n",
              "[6 rows x 6 columns]"
            ]
          },
          "metadata": {
            "tags": []
          },
          "execution_count": 7
        }
      ]
    },
    {
      "cell_type": "markdown",
      "metadata": {
        "id": "CGkpJQdCchsQ",
        "colab_type": "text"
      },
      "source": [
        "Only Camembert and XMLRoberta stand out from the others. We will therefore test some of the different models (Camembert and XMLroberta) made available: https://huggingface.co/models"
      ]
    },
    {
      "cell_type": "markdown",
      "metadata": {
        "id": "M6RjMWksc3tI",
        "colab_type": "text"
      },
      "source": [
        "## Focus on Camembert"
      ]
    },
    {
      "cell_type": "markdown",
      "metadata": {
        "id": "rxXwQdrrT_Fr",
        "colab_type": "text"
      },
      "source": [
        "As in the previous part \"Training and evaluation of each Model\", we will test models. This time, we will test the camembert model family in depth."
      ]
    },
    {
      "cell_type": "code",
      "metadata": {
        "id": "xkKT89EKi8aA",
        "colab_type": "code",
        "colab": {}
      },
      "source": [
        "global camembert_results\n",
        "camembert_results = pd.DataFrame(columns = ['eval_loss','f1_score','precision','recall', \"type_algo\", \"algo\"])"
      ],
      "execution_count": 0,
      "outputs": []
    },
    {
      "cell_type": "code",
      "metadata": {
        "id": "UZwfGqdAKWZQ",
        "colab_type": "code",
        "colab": {}
      },
      "source": [
        "l_camembert = [\"illuin/camembert-large-fquad\" ,\n",
        "               \"fmikaelian/camembert-base-squad\", \"illuin/camembert-base-fquad\", \"camembert/camembert-base\",\n",
        "               \"camembert/camembert-base-ccnet\", \"camembert/camembert-base-oscar-4gb\", \"camembert/camembert-base-ccnet-4gb\",\n",
        "               \"camembert/camembert-base-wikipedia-4gb\"] # [ \"idb-ita/gilberto-uncased-from-camembert\" , \"jplu/tf-camembert-base\" ,\n",
        "               #\"camembert/camembert-large\" , \"fmikaelian/camembert-base-fquad\" , \n",
        "\n",
        "\n",
        "camembert_results = [modeling_train_eval(train_df  , eval_df,\"camembert\", x , camembert_results ) for x in l_camembert][0]"
      ],
      "execution_count": 0,
      "outputs": []
    },
    {
      "cell_type": "markdown",
      "metadata": {
        "id": "KfhdtGWJ4VG4",
        "colab_type": "text"
      },
      "source": [
        "### Processing results"
      ]
    },
    {
      "cell_type": "markdown",
      "metadata": {
        "id": "ew2N5pPXY2eH",
        "colab_type": "text"
      },
      "source": [
        "During our \"simpletransformer\" manipulation, we discovered the \"output_dir\" parameter. It allows us to save the model, as well as its test results, in a folder that we defined. We created one folder per model.\n",
        "\n",
        "Afterwards, we retrieve all the \"eval_results.txt\" files where our evaluation metrics are saved. Finally, we add them to the \"camembert_results\" dataframe."
      ]
    },
    {
      "cell_type": "code",
      "metadata": {
        "id": "HdHwqBKmbmBd",
        "colab_type": "code",
        "colab": {}
      },
      "source": [
        "import os\n",
        "from os.path import isfile, join, isdir\n",
        "\n",
        "def get_files_path(directory, paths):\n",
        "    for item in os.listdir(directory):\n",
        "        if isfile(join(directory, item)) and item == \"eval_results.txt\":\n",
        "            paths.append(directory + '/' +item)\n",
        "        elif isdir(directory+item):\n",
        "            get_files_path(directory + item, paths)\n",
        "    return paths\n",
        "\n",
        "directory_to_search = \"./out/models/\"\n",
        "paths = get_files_path(directory_to_search , [])"
      ],
      "execution_count": 0,
      "outputs": []
    },
    {
      "cell_type": "code",
      "metadata": {
        "id": "6mowb6XT2UUT",
        "colab_type": "code",
        "colab": {}
      },
      "source": [
        "camembert_results = pd.DataFrame()\n",
        "for path in paths : \n",
        "  tmp = pd.read_csv(path, sep = \"=\", header = None).T\n",
        "  tmp.columns = list(tmp.iloc[0,:])\n",
        "  tmp.drop(tmp.index[0], inplace = True)\n",
        "  tmp[\"type_algo\"] = \"camembert\"\n",
        "  tmp[\"algo\"] = (path.split(\"/\")[3])\n",
        "  camembert_results = camembert_results.append(tmp)\n",
        "\n",
        "# round values to 2 significant digits\n",
        "camembert_results = round(camembert_results, 2)"
      ],
      "execution_count": 0,
      "outputs": []
    },
    {
      "cell_type": "code",
      "metadata": {
        "id": "_Z7OttXQBA0H",
        "colab_type": "code",
        "colab": {}
      },
      "source": [
        "# export camembert results\n",
        "camembert_results.to_csv(r\"./out/camembert_results.csv\", sep = \",\", index =False)"
      ],
      "execution_count": 0,
      "outputs": []
    },
    {
      "cell_type": "code",
      "metadata": {
        "id": "6F9UxK3anhVp",
        "colab_type": "code",
        "colab": {}
      },
      "source": [
        "camembert_results = pd.read_csv(r\"./out/camembert_results.csv\", sep = \",\")"
      ],
      "execution_count": 0,
      "outputs": []
    },
    {
      "cell_type": "code",
      "metadata": {
        "id": "YhI2RmK_3ZSW",
        "colab_type": "code",
        "outputId": "0d958e29-8b7b-45b9-8a97-9583681f2aa1",
        "colab": {
          "base_uri": "https://localhost:8080/",
          "height": 386
        }
      },
      "source": [
        "camembert_results.sort_values(by = \"f1_score \", ascending = False)"
      ],
      "execution_count": 0,
      "outputs": [
        {
          "output_type": "execute_result",
          "data": {
            "text/html": [
              "<div>\n",
              "<style scoped>\n",
              "    .dataframe tbody tr th:only-of-type {\n",
              "        vertical-align: middle;\n",
              "    }\n",
              "\n",
              "    .dataframe tbody tr th {\n",
              "        vertical-align: top;\n",
              "    }\n",
              "\n",
              "    .dataframe thead th {\n",
              "        text-align: right;\n",
              "    }\n",
              "</style>\n",
              "<table border=\"1\" class=\"dataframe\">\n",
              "  <thead>\n",
              "    <tr style=\"text-align: right;\">\n",
              "      <th></th>\n",
              "      <th>eval_loss</th>\n",
              "      <th>f1_score</th>\n",
              "      <th>precision</th>\n",
              "      <th>recall</th>\n",
              "      <th>type_algo</th>\n",
              "      <th>algo</th>\n",
              "    </tr>\n",
              "  </thead>\n",
              "  <tbody>\n",
              "    <tr>\n",
              "      <th>1</th>\n",
              "      <td>0.18</td>\n",
              "      <td>0.76</td>\n",
              "      <td>0.74</td>\n",
              "      <td>0.77</td>\n",
              "      <td>camembert</td>\n",
              "      <td>camembert-camembert-large</td>\n",
              "    </tr>\n",
              "    <tr>\n",
              "      <th>8</th>\n",
              "      <td>0.19</td>\n",
              "      <td>0.74</td>\n",
              "      <td>0.75</td>\n",
              "      <td>0.73</td>\n",
              "      <td>camembert</td>\n",
              "      <td>camembert-camembert-base-oscar-4gb</td>\n",
              "    </tr>\n",
              "    <tr>\n",
              "      <th>2</th>\n",
              "      <td>0.19</td>\n",
              "      <td>0.73</td>\n",
              "      <td>0.73</td>\n",
              "      <td>0.72</td>\n",
              "      <td>camembert</td>\n",
              "      <td>fmikaelian-camembert-base-fquad</td>\n",
              "    </tr>\n",
              "    <tr>\n",
              "      <th>7</th>\n",
              "      <td>0.19</td>\n",
              "      <td>0.73</td>\n",
              "      <td>0.74</td>\n",
              "      <td>0.73</td>\n",
              "      <td>camembert</td>\n",
              "      <td>camembert-camembert-base-ccnet</td>\n",
              "    </tr>\n",
              "    <tr>\n",
              "      <th>9</th>\n",
              "      <td>0.19</td>\n",
              "      <td>0.72</td>\n",
              "      <td>0.73</td>\n",
              "      <td>0.72</td>\n",
              "      <td>camembert</td>\n",
              "      <td>camembert-camembert-base-ccnet-4gb</td>\n",
              "    </tr>\n",
              "    <tr>\n",
              "      <th>3</th>\n",
              "      <td>0.21</td>\n",
              "      <td>0.71</td>\n",
              "      <td>0.71</td>\n",
              "      <td>0.71</td>\n",
              "      <td>camembert</td>\n",
              "      <td>illuin-camembert-large-fquad</td>\n",
              "    </tr>\n",
              "    <tr>\n",
              "      <th>4</th>\n",
              "      <td>0.20</td>\n",
              "      <td>0.71</td>\n",
              "      <td>0.72</td>\n",
              "      <td>0.71</td>\n",
              "      <td>camembert</td>\n",
              "      <td>fmikaelian-camembert-base-squad</td>\n",
              "    </tr>\n",
              "    <tr>\n",
              "      <th>10</th>\n",
              "      <td>0.20</td>\n",
              "      <td>0.71</td>\n",
              "      <td>0.72</td>\n",
              "      <td>0.70</td>\n",
              "      <td>camembert</td>\n",
              "      <td>camembert-camembert-base-wikipedia-4gb</td>\n",
              "    </tr>\n",
              "    <tr>\n",
              "      <th>5</th>\n",
              "      <td>0.21</td>\n",
              "      <td>0.67</td>\n",
              "      <td>0.70</td>\n",
              "      <td>0.64</td>\n",
              "      <td>camembert</td>\n",
              "      <td>illuin-camembert-base-fquad</td>\n",
              "    </tr>\n",
              "    <tr>\n",
              "      <th>6</th>\n",
              "      <td>0.21</td>\n",
              "      <td>0.67</td>\n",
              "      <td>0.70</td>\n",
              "      <td>0.64</td>\n",
              "      <td>camembert</td>\n",
              "      <td>camembert-camembert-base</td>\n",
              "    </tr>\n",
              "    <tr>\n",
              "      <th>0</th>\n",
              "      <td>0.23</td>\n",
              "      <td>0.60</td>\n",
              "      <td>0.58</td>\n",
              "      <td>0.62</td>\n",
              "      <td>camembert</td>\n",
              "      <td>idb-ita-gilberto-uncased-from-camembert</td>\n",
              "    </tr>\n",
              "  </tbody>\n",
              "</table>\n",
              "</div>"
            ],
            "text/plain": [
              "    eval_loss   f1_score   ...  type_algo                                     algo\n",
              "1         0.18       0.76  ...  camembert                camembert-camembert-large\n",
              "8         0.19       0.74  ...  camembert       camembert-camembert-base-oscar-4gb\n",
              "2         0.19       0.73  ...  camembert          fmikaelian-camembert-base-fquad\n",
              "7         0.19       0.73  ...  camembert           camembert-camembert-base-ccnet\n",
              "9         0.19       0.72  ...  camembert       camembert-camembert-base-ccnet-4gb\n",
              "3         0.21       0.71  ...  camembert             illuin-camembert-large-fquad\n",
              "4         0.20       0.71  ...  camembert          fmikaelian-camembert-base-squad\n",
              "10        0.20       0.71  ...  camembert   camembert-camembert-base-wikipedia-4gb\n",
              "5         0.21       0.67  ...  camembert              illuin-camembert-base-fquad\n",
              "6         0.21       0.67  ...  camembert                 camembert-camembert-base\n",
              "0         0.23       0.60  ...  camembert  idb-ita-gilberto-uncased-from-camembert\n",
              "\n",
              "[11 rows x 6 columns]"
            ]
          },
          "metadata": {
            "tags": []
          },
          "execution_count": 12
        }
      ]
    },
    {
      "cell_type": "markdown",
      "metadata": {
        "id": "-bCMdgSrBfU3",
        "colab_type": "text"
      },
      "source": [
        "## Predictions"
      ]
    },
    {
      "cell_type": "markdown",
      "metadata": {
        "id": "Lp-HUADQb_R8",
        "colab_type": "text"
      },
      "source": [
        "The \"camembert/camembert-wide\" model gave the best results.\n",
        "We decided to test it with sentences of our choice by introducing traps such as \"Pierre\" and \"pierre\"."
      ]
    },
    {
      "cell_type": "code",
      "metadata": {
        "id": "d5D5JJsKB1lq",
        "colab_type": "code",
        "outputId": "837faefc-4af5-4af6-df6c-f544d3377235",
        "colab": {
          "base_uri": "https://localhost:8080/",
          "height": 87
        }
      },
      "source": [
        "model = NERModel(r\"camembert\", r\"./out/models/camembert-camembert-large\", labels = tags)"
      ],
      "execution_count": 0,
      "outputs": [
        {
          "output_type": "stream",
          "text": [
            "/usr/local/lib/python3.6/dist-packages/simpletransformers/ner/ner_model.py:170: UserWarning:\n",
            "\n",
            "use_multiprocessing automatically disabled as CamemBERT fails when using multiprocessing for feature conversion.\n",
            "\n"
          ],
          "name": "stderr"
        }
      ]
    },
    {
      "cell_type": "code",
      "metadata": {
        "id": "A8vKKEmtBK81",
        "colab_type": "code",
        "outputId": "73436f20-1986-4cb4-9225-e96451a70668",
        "colab": {
          "base_uri": "https://localhost:8080/",
          "height": 116,
          "referenced_widgets": [
            "8aeabfe345884885b334d9bb0bce658a",
            "972d6fd2a1244a54be049483ba2d5828",
            "e9aa58ef78b84f608165b1e830257a0a",
            "78bd3092de37411b8950848edf96043b",
            "daf017b738b34e1694f0ac67c7938766",
            "2a0bd63ca8fc44f6867da1110d24ad85",
            "58bac09a04824023872961b05746716f",
            "4069a613e68844b9b227d4ab0a084494",
            "4695b0eedfda47de80627ba1a15f7247",
            "0554aa91e9dd48e7abb5b4b9f8c265cd",
            "9f1ab2667c8549e0943c494202e0e422",
            "79f0c031806249edafb1d9e7e772de2c",
            "79f81eea173c4ea3b464e0ffbe8b496a",
            "230f00d1a9df4615b14e2db4b5539736",
            "e51e709932dc45dbb444511ef4ba6e34",
            "c00339ffc2564fb6957dd0608afa3fc0"
          ]
        }
      },
      "source": [
        "predictions, raw_outputs = model.predict([\"Pierre et Paul vivaient à Paris. Ils ont passé leur journée à casser une pierre.\\\n",
        " Mais ils travaillent à La Défense. Une Marguerite. Une Table\"])"
      ],
      "execution_count": 0,
      "outputs": [
        {
          "output_type": "display_data",
          "data": {
            "application/vnd.jupyter.widget-view+json": {
              "model_id": "8aeabfe345884885b334d9bb0bce658a",
              "version_minor": 0,
              "version_major": 2
            },
            "text/plain": [
              "HBox(children=(FloatProgress(value=0.0, max=1.0), HTML(value='')))"
            ]
          },
          "metadata": {
            "tags": []
          }
        },
        {
          "output_type": "stream",
          "text": [
            "\n"
          ],
          "name": "stdout"
        },
        {
          "output_type": "display_data",
          "data": {
            "application/vnd.jupyter.widget-view+json": {
              "model_id": "4695b0eedfda47de80627ba1a15f7247",
              "version_minor": 0,
              "version_major": 2
            },
            "text/plain": [
              "HBox(children=(FloatProgress(value=0.0, max=1.0), HTML(value='')))"
            ]
          },
          "metadata": {
            "tags": []
          }
        },
        {
          "output_type": "stream",
          "text": [
            "\n"
          ],
          "name": "stdout"
        }
      ]
    },
    {
      "cell_type": "code",
      "metadata": {
        "id": "fwGm8H_ECxAX",
        "colab_type": "code",
        "outputId": "bf3a3bd8-59c2-4bef-ad80-bc0562451536",
        "colab": {
          "base_uri": "https://localhost:8080/",
          "height": 54
        }
      },
      "source": [
        "print(predictions)"
      ],
      "execution_count": 0,
      "outputs": [
        {
          "output_type": "stream",
          "text": [
            "[[{'Pierre': 'I-PERS'}, {'et': 'O'}, {'Paul': 'I-PERS'}, {'vivaient': 'O'}, {'à': 'O'}, {'Paris.': 'I-LIEU'}, {'Ils': 'O'}, {'ont': 'O'}, {'passé': 'O'}, {'leur': 'O'}, {'journée': 'O'}, {'à': 'O'}, {'casser': 'O'}, {'une': 'O'}, {'pierre.': 'O'}, {'Mais': 'O'}, {'ils': 'O'}, {'travaillent': 'O'}, {'à': 'O'}, {'La': 'I-LIEU'}, {'Défense.': 'I-LIEU'}, {'Une': 'O'}, {'Marguerite.': 'I-PERS'}, {'Une': 'O'}, {'Table': 'O'}]]\n"
          ],
          "name": "stdout"
        }
      ]
    },
    {
      "cell_type": "markdown",
      "metadata": {
        "id": "ZrY5Q3K-Cq69",
        "colab_type": "text"
      },
      "source": [
        "# Classification report"
      ]
    },
    {
      "cell_type": "markdown",
      "metadata": {
        "id": "3CzAwtjXCyFC",
        "colab_type": "text"
      },
      "source": [
        "The purpose of this section  is to evaluate the performance of the entity recognition models **by entity**. For example, to detect if models struggle recognizing a certain entity in particular."
      ]
    },
    {
      "cell_type": "markdown",
      "metadata": {
        "id": "q5q2LDiCNNXk",
        "colab_type": "text"
      },
      "source": [
        "We start by loading the model \"camembert-camember-large\" that was previouly saved and rerun the *eval_model* function to "
      ]
    },
    {
      "cell_type": "code",
      "metadata": {
        "id": "v8qqMuAWCvVV",
        "colab_type": "code",
        "colab": {}
      },
      "source": [
        "model = NERModel(r\"camembert\", r\"./out/models/camembert-camembert-large\", labels = tags)"
      ],
      "execution_count": 0,
      "outputs": []
    },
    {
      "cell_type": "code",
      "metadata": {
        "id": "phiGOwRCC-Ua",
        "colab_type": "code",
        "outputId": "3361d44b-5641-49fe-f59d-e63fc8d0b413",
        "colab": {
          "base_uri": "https://localhost:8080/",
          "height": 116,
          "referenced_widgets": [
            "68d1f451512245b58ffb824e899b9b8e",
            "099017899374470997ed40f2459232ed",
            "166996270a14468d8323affc9c4af62e",
            "23c1d68bc78b479dbd779bd72b923c65",
            "4afd12a57a704bf5b3020b5fdda53608",
            "972f2ef84b9347289015f5bc6240a48e",
            "8bf01f4de34b4af5a9df3ff8dfc69912",
            "a0a0542817b44e3391ee7fd3dd04109e",
            "c7a190fddf1744eeaf9c50cef7b360e6",
            "9d7be42bdc0c4d96895117ed0496258d",
            "0978ebc0abd94ca9aba0c8f0c09e1da4",
            "2a49ef2b91cd4d2799af481d3a388a07",
            "34a8960ed5c7427abb4c121ffa4dc9db",
            "b4ad039cbf064de08f186abec89c9297",
            "aca0787344604b1cae53729556eba992",
            "2841d44a7b134b7695ce09f98a6e30c9"
          ]
        }
      },
      "source": [
        "result, model_outputs, predictions = model.eval_model(eval_df,output_dir = \"./tests\" )\n"
      ],
      "execution_count": 0,
      "outputs": [
        {
          "output_type": "display_data",
          "data": {
            "application/vnd.jupyter.widget-view+json": {
              "model_id": "68d1f451512245b58ffb824e899b9b8e",
              "version_minor": 0,
              "version_major": 2
            },
            "text/plain": [
              "HBox(children=(FloatProgress(value=0.0, max=5843.0), HTML(value='')))"
            ]
          },
          "metadata": {
            "tags": []
          }
        },
        {
          "output_type": "stream",
          "text": [
            "\n"
          ],
          "name": "stdout"
        },
        {
          "output_type": "display_data",
          "data": {
            "application/vnd.jupyter.widget-view+json": {
              "model_id": "c7a190fddf1744eeaf9c50cef7b360e6",
              "version_minor": 0,
              "version_major": 2
            },
            "text/plain": [
              "HBox(children=(FloatProgress(value=0.0, max=731.0), HTML(value='')))"
            ]
          },
          "metadata": {
            "tags": []
          }
        },
        {
          "output_type": "stream",
          "text": [
            "\n"
          ],
          "name": "stdout"
        }
      ]
    },
    {
      "cell_type": "code",
      "metadata": {
        "id": "HwHQPEP3MKqS",
        "colab_type": "code",
        "outputId": "bcbf1aa9-92fe-4461-c176-91958c49a501",
        "colab": {
          "base_uri": "https://localhost:8080/",
          "height": 34
        }
      },
      "source": [
        "print(\"F1-score : \", result[\"f1_score\"])\n",
        "# print(predictions)\n"
      ],
      "execution_count": 0,
      "outputs": [
        {
          "output_type": "stream",
          "text": [
            "F1-score :  0.7829347385488448\n"
          ],
          "name": "stdout"
        }
      ]
    },
    {
      "cell_type": "markdown",
      "metadata": {
        "id": "ALMNAtLjQMZ8",
        "colab_type": "text"
      },
      "source": [
        "To be able to use the seqeval metrics classification report, y_true have to be created, based on the eval_df, in the right format which is a list of lists of tags (one list per sentence). We create this list of list grouping \"labels\" by \"sentence_id\"."
      ]
    },
    {
      "cell_type": "code",
      "metadata": {
        "id": "hFIqzB2MJdIi",
        "colab_type": "code",
        "outputId": "d0a2e78b-ab15-43a9-e257-3ff4e3845ac8",
        "colab": {
          "base_uri": "https://localhost:8080/",
          "height": 138
        }
      },
      "source": [
        "df_grouped_eval = pd.DataFrame(eval_df[[\"sentence_id\", \"labels\"]].groupby(\"sentence_id\")[\"labels\"].apply(list))\n",
        "print(df_grouped_eval.head())\n",
        "y_true = df_grouped_eval[\"labels\"].tolist()"
      ],
      "execution_count": 0,
      "outputs": [
        {
          "output_type": "stream",
          "text": [
            "                                                        labels\n",
            "sentence_id                                                   \n",
            "2            [O, O, O, O, O, O, O, O, O, O, O, O, O, O, O, ...\n",
            "4            [O, O, O, O, O, O, O, O, O, O, O, O, O, O, O, ...\n",
            "11                           [O, O, O, O, O, O, O, O, O, O, O]\n",
            "12                                    [O, O, O, O, O, O, O, O]\n",
            "17                                          [O, O, O, O, O, O]\n"
          ],
          "name": "stdout"
        }
      ]
    },
    {
      "cell_type": "code",
      "metadata": {
        "id": "SQk4wmf2E9CK",
        "colab_type": "code",
        "outputId": "e89d0f3f-858f-451d-8633-51a4c9804eb4",
        "colab": {
          "base_uri": "https://localhost:8080/",
          "height": 225
        }
      },
      "source": [
        "print(\"F1-score : \",f1_score(y_true, predictions))\n",
        "print(\"Accuracy : \", accuracy_score(y_true, predictions))\n",
        "print(\"Classification Report : \\n\", classification_report(y_true, predictions))"
      ],
      "execution_count": 0,
      "outputs": [
        {
          "output_type": "stream",
          "text": [
            "F1-score :  0.029169181251257288\n",
            "Accuracy :  0.847561606422379\n",
            "Classification Report : \n",
            "            precision    recall  f1-score   support\n",
            "\n",
            "     LIEU       0.03      0.03      0.03      2095\n",
            "      ORG       0.02      0.02      0.02       738\n",
            "     PERS       0.03      0.03      0.03      2093\n",
            "\n",
            "micro avg       0.03      0.03      0.03      4926\n",
            "macro avg       0.03      0.03      0.03      4926\n",
            "\n"
          ],
          "name": "stdout"
        }
      ]
    },
    {
      "cell_type": "code",
      "metadata": {
        "id": "oaMHm314N34m",
        "colab_type": "code",
        "outputId": "c596f602-ddb3-4e6f-e665-135fc68b4e2f",
        "colab": {
          "base_uri": "https://localhost:8080/",
          "height": 34
        }
      },
      "source": [
        "# previoulsy calculated f1-score : 0.12 ..\n",
        "f1_score(y_true, predictions)"
      ],
      "execution_count": 0,
      "outputs": [
        {
          "output_type": "execute_result",
          "data": {
            "text/plain": [
              "0.11958333333333333"
            ]
          },
          "metadata": {
            "tags": []
          },
          "execution_count": 36
        }
      ]
    },
    {
      "cell_type": "code",
      "metadata": {
        "id": "AwA_KTFDN3lf",
        "colab_type": "code",
        "outputId": "073f7c0a-7314-4794-eb5d-220fe96cbc6f",
        "colab": {
          "base_uri": "https://localhost:8080/",
          "height": 34
        }
      },
      "source": [
        "# previoulsy calculated accuracy : 0.86 ..\n",
        "accuracy_score(y_true, predictions)"
      ],
      "execution_count": 0,
      "outputs": [
        {
          "output_type": "execute_result",
          "data": {
            "text/plain": [
              "0.8577455335740996"
            ]
          },
          "metadata": {
            "tags": []
          },
          "execution_count": 37
        }
      ]
    },
    {
      "cell_type": "code",
      "metadata": {
        "id": "iFUWYdp7MebP",
        "colab_type": "code",
        "outputId": "64c605da-d277-4454-c761-d7a557f69652",
        "colab": {
          "base_uri": "https://localhost:8080/",
          "height": 34
        }
      },
      "source": [
        "len(y_true)"
      ],
      "execution_count": 0,
      "outputs": [
        {
          "output_type": "execute_result",
          "data": {
            "text/plain": [
              "5738"
            ]
          },
          "metadata": {
            "tags": []
          },
          "execution_count": 30
        }
      ]
    },
    {
      "cell_type": "code",
      "metadata": {
        "id": "hpwq6VrAMtr6",
        "colab_type": "code",
        "outputId": "d66f510a-9b9f-4efa-8886-2099d2fd9717",
        "colab": {
          "base_uri": "https://localhost:8080/",
          "height": 34
        }
      },
      "source": [
        "len(predictions)"
      ],
      "execution_count": 0,
      "outputs": [
        {
          "output_type": "execute_result",
          "data": {
            "text/plain": [
              "5738"
            ]
          },
          "metadata": {
            "tags": []
          },
          "execution_count": 31
        }
      ]
    }
  ]
}